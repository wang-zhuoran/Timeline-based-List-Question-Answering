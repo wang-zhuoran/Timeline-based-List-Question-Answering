{
 "cells": [
  {
   "cell_type": "code",
   "execution_count": 29,
   "metadata": {},
   "outputs": [],
   "source": [
    "import json\n",
    "import re"
   ]
  },
  {
   "cell_type": "code",
   "execution_count": 30,
   "metadata": {},
   "outputs": [],
   "source": [
    "k = '10'\n",
    "name  = 'XL'"
   ]
  },
  {
   "cell_type": "code",
   "execution_count": 31,
   "metadata": {},
   "outputs": [],
   "source": [
    "input_file = '.\\mid-output\\predictions-FlanT5-' + name + '-k=' + k + '.json' \n",
    "output_file = 'predictions-FlanT5-' + name + '-k=' + k + '_processed.json'\n",
    "with open(input_file, 'r', encoding='utf-8') as file:\n",
    "    data = json.load(file)"
   ]
  },
  {
   "cell_type": "code",
   "execution_count": 32,
   "metadata": {},
   "outputs": [],
   "source": [
    "def process_line(line):\n",
    "    # 去除头尾的引号\n",
    "    line = line.strip().strip(\"'\").strip('\"')\n",
    "\n",
    "    # 处理混合格式的数据，将所有的单引号转换为双引号\n",
    "    line = line.replace(\"'\", '\"')\n",
    "    \n",
    "    # 处理可能存在的字典格式数据，将其转成json格式\n",
    "    line = re.sub(r'(\\w+):', r'\"\\1\":', line)\n",
    "\n",
    "    # 转换为Python对象\n",
    "    try:\n",
    "        if not line.startswith('['):\n",
    "            line = '[' + line + ']'\n",
    "        processed_line = json.loads(line)\n",
    "    except json.JSONDecodeError:\n",
    "        processed_line = [line]\n",
    "\n",
    "    return processed_line\n",
    "\n",
    "def process_data(data):\n",
    "    return [process_line(line) for line in data]"
   ]
  },
  {
   "cell_type": "code",
   "execution_count": 33,
   "metadata": {},
   "outputs": [],
   "source": [
    "processed_data = process_data(data)\n",
    "with open(output_file, 'w', encoding='utf-8') as outfile:\n",
    "    json.dump(processed_data, outfile, indent=4, ensure_ascii=False)"
   ]
  },
  {
   "cell_type": "code",
   "execution_count": null,
   "metadata": {},
   "outputs": [],
   "source": []
  }
 ],
 "metadata": {
  "kernelspec": {
   "display_name": "ame",
   "language": "python",
   "name": "python3"
  },
  "language_info": {
   "codemirror_mode": {
    "name": "ipython",
    "version": 3
   },
   "file_extension": ".py",
   "mimetype": "text/x-python",
   "name": "python",
   "nbconvert_exporter": "python",
   "pygments_lexer": "ipython3",
   "version": "3.10.13"
  }
 },
 "nbformat": 4,
 "nbformat_minor": 2
}
